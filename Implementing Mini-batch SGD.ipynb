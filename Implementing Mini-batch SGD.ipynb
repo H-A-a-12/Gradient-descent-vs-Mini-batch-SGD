{
 "cells": [
  {
   "cell_type": "code",
   "execution_count": 1,
   "metadata": {},
   "outputs": [],
   "source": [
    "from sklearn.datasets import make_blobs\n",
    "from sklearn.model_selection import train_test_split\n",
    "from sklearn.metrics import classification_report \n",
    "import matplotlib.pyplot as plt \n",
    "import numpy as np"
   ]
  },
  {
   "cell_type": "code",
   "execution_count": 2,
   "metadata": {},
   "outputs": [],
   "source": [
    "def sigmoid_function(x):\n",
    "    return 1/(1+np.exp(-x))"
   ]
  },
  {
   "cell_type": "code",
   "execution_count": 3,
   "metadata": {},
   "outputs": [],
   "source": [
    "def predict(x,w):\n",
    "    preds=sigmoid_function(x.dot(w))\n",
    "    preds[preds<=0.5]=0\n",
    "    preds[preds>0.5]=1\n",
    "    return preds"
   ]
  },
  {
   "cell_type": "code",
   "execution_count": 21,
   "metadata": {},
   "outputs": [],
   "source": [
    "(x,y)=make_blobs(n_samples=1000,n_features=2,centers=2,cluster_std=1.5,random_state=1)"
   ]
  },
  {
   "cell_type": "code",
   "execution_count": 22,
   "metadata": {},
   "outputs": [
    {
     "name": "stdout",
     "output_type": "stream",
     "text": [
      "(1000,)\n",
      "reshape the Y shape\n",
      "(1000, 1)\n"
     ]
    }
   ],
   "source": [
    "print(y.shape)\n",
    "print('reshape the Y shape')\n",
    "y=y.reshape((y.shape[0],1))\n",
    "print(y.shape)"
   ]
  },
  {
   "cell_type": "code",
   "execution_count": 23,
   "metadata": {},
   "outputs": [
    {
     "name": "stdout",
     "output_type": "stream",
     "text": [
      "(1000, 2)\n",
      "After the reshape\n",
      "(1000, 3)\n"
     ]
    }
   ],
   "source": [
    "print(x.shape)\n",
    "x=np.c_[x,np.ones((x.shape[0]))]\n",
    "print('After the reshape')\n",
    "print(x.shape)"
   ]
  },
  {
   "cell_type": "code",
   "execution_count": 24,
   "metadata": {},
   "outputs": [],
   "source": [
    "(trainX, testX, trainY, testY) = train_test_split(x, y,test_size=0.5, random_state=42)"
   ]
  },
  {
   "cell_type": "code",
   "execution_count": 25,
   "metadata": {},
   "outputs": [],
   "source": [
    "def next_batch(X, y, batchSize):\n",
    "# loop over our dataset ‘X‘ in mini-batches, yielding a tuple of\n",
    "# the current batched data and labels\n",
    "    for i in np.arange(0, X.shape[0], batchSize):\n",
    "        yield (X[i:i + batchSize], y[i:i + batchSize])"
   ]
  },
  {
   "cell_type": "code",
   "execution_count": 26,
   "metadata": {},
   "outputs": [],
   "source": [
    "(trainX, testX, trainY, testY) = train_test_split(x, y,test_size=0.5, random_state=42)"
   ]
  },
  {
   "cell_type": "code",
   "execution_count": 27,
   "metadata": {},
   "outputs": [
    {
     "name": "stdout",
     "output_type": "stream",
     "text": [
      "[INFO] Training\n"
     ]
    }
   ],
   "source": [
    "print('[INFO] Training')\n",
    "w=np.random.randn(x.shape[1],1)\n",
    "losse=[]"
   ]
  },
  {
   "cell_type": "markdown",
   "metadata": {},
   "source": [
    "The only difference between vanilla gradient descent and SGD is the addition of the next_training_batch\n",
    "function. Instead of computing our gradient over the entire data set, we instead sample our data,\n",
    "yielding a batch. We evaluate the gradient on the batch, and update our weight matrix W. From an\n",
    "implementation perspective, we also try to randomize our training samples before applying SGD\n",
    "since the algorithm is sensitive to batches."
   ]
  },
  {
   "cell_type": "markdown",
   "metadata": {},
   "source": [
    "After looking at the pseudocode for SGD, you’ll immediately notice an introduction of a new\n",
    "parameter: the batch size. In a “purist” implementation of SGD, your mini-batch size would be 1,\n",
    "implying that we would randomly sample one data point from the training set, compute the gradient,\n",
    "and update our parameters. However, we often use mini-batches that are > 1. Typical batch sizes\n",
    "include 32, 64, 128, and 256."
   ]
  },
  {
   "cell_type": "code",
   "execution_count": 28,
   "metadata": {},
   "outputs": [
    {
     "name": "stdout",
     "output_type": "stream",
     "text": [
      "[INFO] epoch=1, loss=1.6081674\n",
      "[INFO] epoch=5, loss=0.0160092\n",
      "[INFO] epoch=10, loss=0.0113723\n",
      "[INFO] epoch=15, loss=0.0093722\n",
      "[INFO] epoch=20, loss=0.0081468\n",
      "[INFO] epoch=25, loss=0.0072800\n",
      "[INFO] epoch=30, loss=0.0066172\n",
      "[INFO] epoch=35, loss=0.0060853\n",
      "[INFO] epoch=40, loss=0.0056442\n",
      "[INFO] epoch=45, loss=0.0052697\n",
      "[INFO] epoch=50, loss=0.0049461\n",
      "[INFO] epoch=55, loss=0.0046624\n",
      "[INFO] epoch=60, loss=0.0044110\n",
      "[INFO] epoch=65, loss=0.0041861\n",
      "[INFO] epoch=70, loss=0.0039834\n",
      "[INFO] epoch=75, loss=0.0037994\n",
      "[INFO] epoch=80, loss=0.0036316\n",
      "[INFO] epoch=85, loss=0.0034778\n",
      "[INFO] epoch=90, loss=0.0033361\n",
      "[INFO] epoch=95, loss=0.0032051\n",
      "[INFO] epoch=100, loss=0.0030835\n",
      "[INFO] epoch=105, loss=0.0029705\n",
      "[INFO] epoch=110, loss=0.0028649\n",
      "[INFO] epoch=115, loss=0.0027662\n",
      "[INFO] epoch=120, loss=0.0026737\n",
      "[INFO] epoch=125, loss=0.0025866\n",
      "[INFO] epoch=130, loss=0.0025047\n",
      "[INFO] epoch=135, loss=0.0024274\n",
      "[INFO] epoch=140, loss=0.0023544\n",
      "[INFO] epoch=145, loss=0.0022852\n",
      "[INFO] epoch=150, loss=0.0022197\n",
      "[INFO] epoch=155, loss=0.0021575\n",
      "[INFO] epoch=160, loss=0.0020983\n",
      "[INFO] epoch=165, loss=0.0020420\n",
      "[INFO] epoch=170, loss=0.0019884\n",
      "[INFO] epoch=175, loss=0.0019372\n",
      "[INFO] epoch=180, loss=0.0018883\n",
      "[INFO] epoch=185, loss=0.0018415\n",
      "[INFO] epoch=190, loss=0.0017968\n",
      "[INFO] epoch=195, loss=0.0017540\n",
      "[INFO] epoch=200, loss=0.0017129\n",
      "[INFO] epoch=205, loss=0.0016735\n",
      "[INFO] epoch=210, loss=0.0016357\n",
      "[INFO] epoch=215, loss=0.0015994\n",
      "[INFO] epoch=220, loss=0.0015644\n",
      "[INFO] epoch=225, loss=0.0015308\n",
      "[INFO] epoch=230, loss=0.0014984\n",
      "[INFO] epoch=235, loss=0.0014672\n",
      "[INFO] epoch=240, loss=0.0014371\n",
      "[INFO] epoch=245, loss=0.0014081\n",
      "[INFO] epoch=250, loss=0.0013800\n",
      "[INFO] epoch=255, loss=0.0013530\n",
      "[INFO] epoch=260, loss=0.0013268\n",
      "[INFO] epoch=265, loss=0.0013015\n",
      "[INFO] epoch=270, loss=0.0012770\n",
      "[INFO] epoch=275, loss=0.0012533\n",
      "[INFO] epoch=280, loss=0.0012304\n",
      "[INFO] epoch=285, loss=0.0012082\n",
      "[INFO] epoch=290, loss=0.0011867\n",
      "[INFO] epoch=295, loss=0.0011658\n",
      "[INFO] epoch=300, loss=0.0011455\n",
      "[INFO] epoch=305, loss=0.0011259\n",
      "[INFO] epoch=310, loss=0.0011068\n",
      "[INFO] epoch=315, loss=0.0010883\n",
      "[INFO] epoch=320, loss=0.0010702\n",
      "[INFO] epoch=325, loss=0.0010528\n",
      "[INFO] epoch=330, loss=0.0010357\n",
      "[INFO] epoch=335, loss=0.0010192\n",
      "[INFO] epoch=340, loss=0.0010031\n",
      "[INFO] epoch=345, loss=0.0009874\n",
      "[INFO] epoch=350, loss=0.0009722\n",
      "[INFO] epoch=355, loss=0.0009573\n",
      "[INFO] epoch=360, loss=0.0009429\n",
      "[INFO] epoch=365, loss=0.0009288\n",
      "[INFO] epoch=370, loss=0.0009150\n",
      "[INFO] epoch=375, loss=0.0009016\n",
      "[INFO] epoch=380, loss=0.0008885\n",
      "[INFO] epoch=385, loss=0.0008758\n",
      "[INFO] epoch=390, loss=0.0008634\n",
      "[INFO] epoch=395, loss=0.0008512\n",
      "[INFO] epoch=400, loss=0.0008394\n",
      "[INFO] epoch=405, loss=0.0008278\n",
      "[INFO] epoch=410, loss=0.0008165\n",
      "[INFO] epoch=415, loss=0.0008054\n",
      "[INFO] epoch=420, loss=0.0007947\n",
      "[INFO] epoch=425, loss=0.0007841\n",
      "[INFO] epoch=430, loss=0.0007738\n",
      "[INFO] epoch=435, loss=0.0007637\n",
      "[INFO] epoch=440, loss=0.0007538\n",
      "[INFO] epoch=445, loss=0.0007442\n",
      "[INFO] epoch=450, loss=0.0007348\n",
      "[INFO] epoch=455, loss=0.0007255\n",
      "[INFO] epoch=460, loss=0.0007165\n",
      "[INFO] epoch=465, loss=0.0007076\n",
      "[INFO] epoch=470, loss=0.0006990\n",
      "[INFO] epoch=475, loss=0.0006905\n",
      "[INFO] epoch=480, loss=0.0006821\n",
      "[INFO] epoch=485, loss=0.0006740\n",
      "[INFO] epoch=490, loss=0.0006660\n",
      "[INFO] epoch=495, loss=0.0006582\n",
      "[INFO] epoch=500, loss=0.0006505\n",
      "[INFO] epoch=505, loss=0.0006430\n",
      "[INFO] epoch=510, loss=0.0006356\n",
      "[INFO] epoch=515, loss=0.0006284\n",
      "[INFO] epoch=520, loss=0.0006213\n",
      "[INFO] epoch=525, loss=0.0006143\n",
      "[INFO] epoch=530, loss=0.0006075\n",
      "[INFO] epoch=535, loss=0.0006008\n",
      "[INFO] epoch=540, loss=0.0005942\n",
      "[INFO] epoch=545, loss=0.0005877\n",
      "[INFO] epoch=550, loss=0.0005814\n",
      "[INFO] epoch=555, loss=0.0005752\n",
      "[INFO] epoch=560, loss=0.0005691\n",
      "[INFO] epoch=565, loss=0.0005631\n",
      "[INFO] epoch=570, loss=0.0005572\n",
      "[INFO] epoch=575, loss=0.0005514\n",
      "[INFO] epoch=580, loss=0.0005457\n",
      "[INFO] epoch=585, loss=0.0005401\n",
      "[INFO] epoch=590, loss=0.0005346\n",
      "[INFO] epoch=595, loss=0.0005292\n",
      "[INFO] epoch=600, loss=0.0005238\n",
      "[INFO] epoch=605, loss=0.0005186\n",
      "[INFO] epoch=610, loss=0.0005135\n",
      "[INFO] epoch=615, loss=0.0005084\n",
      "[INFO] epoch=620, loss=0.0005035\n",
      "[INFO] epoch=625, loss=0.0004986\n",
      "[INFO] epoch=630, loss=0.0004938\n",
      "[INFO] epoch=635, loss=0.0004890\n",
      "[INFO] epoch=640, loss=0.0004844\n",
      "[INFO] epoch=645, loss=0.0004798\n",
      "[INFO] epoch=650, loss=0.0004753\n",
      "[INFO] epoch=655, loss=0.0004708\n",
      "[INFO] epoch=660, loss=0.0004665\n",
      "[INFO] epoch=665, loss=0.0004622\n",
      "[INFO] epoch=670, loss=0.0004579\n",
      "[INFO] epoch=675, loss=0.0004538\n",
      "[INFO] epoch=680, loss=0.0004497\n",
      "[INFO] epoch=685, loss=0.0004456\n",
      "[INFO] epoch=690, loss=0.0004416\n",
      "[INFO] epoch=695, loss=0.0004377\n",
      "[INFO] epoch=700, loss=0.0004338\n",
      "[INFO] epoch=705, loss=0.0004300\n",
      "[INFO] epoch=710, loss=0.0004263\n",
      "[INFO] epoch=715, loss=0.0004226\n",
      "[INFO] epoch=720, loss=0.0004189\n",
      "[INFO] epoch=725, loss=0.0004153\n",
      "[INFO] epoch=730, loss=0.0004118\n",
      "[INFO] epoch=735, loss=0.0004083\n",
      "[INFO] epoch=740, loss=0.0004049\n",
      "[INFO] epoch=745, loss=0.0004015\n",
      "[INFO] epoch=750, loss=0.0003981\n",
      "[INFO] epoch=755, loss=0.0003948\n",
      "[INFO] epoch=760, loss=0.0003916\n",
      "[INFO] epoch=765, loss=0.0003883\n",
      "[INFO] epoch=770, loss=0.0003852\n",
      "[INFO] epoch=775, loss=0.0003821\n",
      "[INFO] epoch=780, loss=0.0003790\n",
      "[INFO] epoch=785, loss=0.0003759\n",
      "[INFO] epoch=790, loss=0.0003729\n",
      "[INFO] epoch=795, loss=0.0003700\n",
      "[INFO] epoch=800, loss=0.0003671\n",
      "[INFO] epoch=805, loss=0.0003642\n",
      "[INFO] epoch=810, loss=0.0003613\n",
      "[INFO] epoch=815, loss=0.0003585\n",
      "[INFO] epoch=820, loss=0.0003558\n",
      "[INFO] epoch=825, loss=0.0003530\n",
      "[INFO] epoch=830, loss=0.0003503\n",
      "[INFO] epoch=835, loss=0.0003477\n",
      "[INFO] epoch=840, loss=0.0003450\n",
      "[INFO] epoch=845, loss=0.0003424\n",
      "[INFO] epoch=850, loss=0.0003399\n",
      "[INFO] epoch=855, loss=0.0003373\n",
      "[INFO] epoch=860, loss=0.0003348\n",
      "[INFO] epoch=865, loss=0.0003324\n",
      "[INFO] epoch=870, loss=0.0003299\n",
      "[INFO] epoch=875, loss=0.0003275\n",
      "[INFO] epoch=880, loss=0.0003251\n",
      "[INFO] epoch=885, loss=0.0003228\n",
      "[INFO] epoch=890, loss=0.0003204\n",
      "[INFO] epoch=895, loss=0.0003181\n",
      "[INFO] epoch=900, loss=0.0003159\n",
      "[INFO] epoch=905, loss=0.0003136\n",
      "[INFO] epoch=910, loss=0.0003114\n",
      "[INFO] epoch=915, loss=0.0003092\n",
      "[INFO] epoch=920, loss=0.0003071\n",
      "[INFO] epoch=925, loss=0.0003049\n",
      "[INFO] epoch=930, loss=0.0003028\n",
      "[INFO] epoch=935, loss=0.0003007\n",
      "[INFO] epoch=940, loss=0.0002987\n",
      "[INFO] epoch=945, loss=0.0002966\n",
      "[INFO] epoch=950, loss=0.0002946\n",
      "[INFO] epoch=955, loss=0.0002926\n",
      "[INFO] epoch=960, loss=0.0002906\n",
      "[INFO] epoch=965, loss=0.0002887\n",
      "[INFO] epoch=970, loss=0.0002867\n",
      "[INFO] epoch=975, loss=0.0002848\n",
      "[INFO] epoch=980, loss=0.0002829\n",
      "[INFO] epoch=985, loss=0.0002811\n",
      "[INFO] epoch=990, loss=0.0002792\n",
      "[INFO] epoch=995, loss=0.0002774\n",
      "[INFO] epoch=1000, loss=0.0002756\n"
     ]
    }
   ],
   "source": [
    "for epoch in np.arange(0,1000):\n",
    "    epochLoss=[]\n",
    "    for (batchX, batchY) in next_batch(x, y,32):\n",
    "        preds=sigmoid_function(batchX.dot(w))\n",
    "        error = preds-batchY\n",
    "        epochLoss.append(np.sum(error ** 2))\n",
    "        gradient = batchX.T.dot(error)\n",
    "        w=w+(-0.01)*gradient\n",
    "    loss = np.average(epochLoss)\n",
    "    losse.append(loss)\n",
    "    if epoch == 0 or (epoch + 1) % 5 == 0:\n",
    "        print(\"[INFO] epoch={}, loss={:.7f}\".format(int(epoch + 1),loss)) \n",
    "\n",
    "        "
   ]
  },
  {
   "cell_type": "code",
   "execution_count": 29,
   "metadata": {},
   "outputs": [
    {
     "name": "stdout",
     "output_type": "stream",
     "text": [
      "[INFO] evaluating...\n",
      "              precision    recall  f1-score   support\n",
      "\n",
      "           0       1.00      1.00      1.00       250\n",
      "           1       1.00      1.00      1.00       250\n",
      "\n",
      "    accuracy                           1.00       500\n",
      "   macro avg       1.00      1.00      1.00       500\n",
      "weighted avg       1.00      1.00      1.00       500\n",
      "\n"
     ]
    }
   ],
   "source": [
    "print(\"[INFO] evaluating...\")\n",
    "preds = predict(testX, w)\n",
    "print(classification_report(testY, preds))"
   ]
  },
  {
   "cell_type": "code",
   "execution_count": 30,
   "metadata": {},
   "outputs": [
    {
     "data": {
      "image/png": "[encoded data removed]",
      "text/plain": [
       "<Figure size 432x288 with 1 Axes>"
      ]
     },
     "metadata": {},
     "output_type": "display_data"
    },
    {
     "data": {
      "image/png": "[encoded data removed]",
      "text/plain": [
       "<Figure size 432x288 with 1 Axes>"
      ]
     },
     "metadata": {},
     "output_type": "display_data"
    }
   ],
   "source": [
    "plt.style.use(\"ggplot\")\n",
    "plt.figure()\n",
    "plt.title(\"Data\")\n",
    "plt.scatter(testX[:, 0], testX[:, 1], marker=\"o\", c=testY, s=30)\n",
    "\n",
    "# construct a figure that plots the loss over time\n",
    "plt.style.use(\"ggplot\")\n",
    "plt.figure()\n",
    "plt.plot(np.arange(0,1000), losse)\n",
    "plt.title(\"Training Loss\")\n",
    "plt.xlabel(\"Epoch #\")\n",
    "plt.ylabel(\"Loss\")\n",
    "plt.show()"
   ]
  },
  {
   "cell_type": "code",
   "execution_count": null,
   "metadata": {},
   "outputs": [],
   "source": []
  }
 ],
 "metadata": {
  "kernelspec": {
   "display_name": "Python 3",
   "language": "python",
   "name": "python3"
  },
  "language_info": {
   "codemirror_mode": {
    "name": "ipython",
    "version": 3
   },
   "file_extension": ".py",
   "mimetype": "text/x-python",
   "name": "python",
   "nbconvert_exporter": "python",
   "pygments_lexer": "ipython3",
   "version": "3.6.3"
  }
 },
 "nbformat": 4,
 "nbformat_minor": 4
}
